{
 "cells": [
  {
   "cell_type": "markdown",
   "id": "breeding-giant",
   "metadata": {},
   "source": [
    "# Week 01"
   ]
  },
  {
   "cell_type": "code",
   "execution_count": 1,
   "id": "irish-somerset",
   "metadata": {},
   "outputs": [
    {
     "name": "stdout",
     "output_type": "stream",
     "text": [
      "Hello, buddy!\n"
     ]
    }
   ],
   "source": [
    "#this is python\n",
    "print(\"Hello, buddy!\")"
   ]
  },
  {
   "cell_type": "markdown",
   "id": "adolescent-apollo",
   "metadata": {},
   "source": [
    "## Guessing Game"
   ]
  },
  {
   "cell_type": "code",
   "execution_count": null,
   "id": "damaged-costa",
   "metadata": {},
   "outputs": [],
   "source": [
    "from random import randint\n",
    "from IPython.display import clear_output\n",
    "\n",
    "guessed = False\n",
    "number_to_guess = randint(0, 100)\n",
    "\n",
    "guesses = 0\n",
    "\n",
    "while not guessed:\n",
    "    answer = input(\"I am thinking of a certain number. Can you take a guess what the number is?\")\n",
    "    guesses += 1\n",
    "    clear_output()\n",
    "    \n",
    "    if int(answer) == number_to_guess:\n",
    "        print(\"Congratulations! You have guessed the correct number!\")\n",
    "        print(\"It took you {} guesses!\".format(guesses))\n",
    "    \n",
    "    elif int(answer) > number_to_guess:\n",
    "        print(\"Your guess is too high!\")\n",
    "        \n",
    "    elif int(answer) < number_to_guess:\n",
    "        print(\"Your guess is too low!\")"
   ]
  },
  {
   "cell_type": "code",
   "execution_count": null,
   "id": "miniature-border",
   "metadata": {},
   "outputs": [],
   "source": []
  }
 ],
 "metadata": {
  "kernelspec": {
   "display_name": "Python 3",
   "language": "python",
   "name": "python3"
  },
  "language_info": {
   "codemirror_mode": {
    "name": "ipython",
    "version": 3
   },
   "file_extension": ".py",
   "mimetype": "text/x-python",
   "name": "python",
   "nbconvert_exporter": "python",
   "pygments_lexer": "ipython3",
   "version": "3.9.1"
  }
 },
 "nbformat": 4,
 "nbformat_minor": 5
}
